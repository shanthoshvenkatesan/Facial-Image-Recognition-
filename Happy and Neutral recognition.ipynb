{
 "cells": [
  {
   "cell_type": "code",
   "execution_count": null,
   "metadata": {},
   "outputs": [],
   "source": [
    "#https://www.youtube.com/watch?v=j-3vuBynnOE"
   ]
  },
  {
   "cell_type": "code",
   "execution_count": 6,
   "metadata": {},
   "outputs": [],
   "source": [
    "import cv2\n",
    "import os\n",
    "import numpy as np\n",
    "from PIL import Image\n",
    "import pickle\n",
    "import matplotlib.pyplot as plt"
   ]
  },
  {
   "cell_type": "code",
   "execution_count": 7,
   "metadata": {},
   "outputs": [
    {
     "name": "stdout",
     "output_type": "stream",
     "text": [
      "(101, 101) PNG\n"
     ]
    }
   ],
   "source": [
    "#To load an image file in pyhton\n",
    "\n",
    "jpgfile = Image.open(\"my-image.png\")\n",
    "print( jpgfile.size, jpgfile.format)"
   ]
  },
  {
   "cell_type": "code",
   "execution_count": 8,
   "metadata": {},
   "outputs": [],
   "source": [
    "DATADIR = \"C:/Users/sandy/train\"\n",
    "CATEGORIES = [\"Happy\", \"Neutral\"]"
   ]
  },
  {
   "cell_type": "code",
   "execution_count": 9,
   "metadata": {},
   "outputs": [
    {
     "data": {
      "image/png": "[encoded data removed]",
      "text/plain": [
       "<Figure size 432x288 with 1 Axes>"
      ]
     },
     "metadata": {},
     "output_type": "display_data"
    }
   ],
   "source": [
    "for category in CATEGORIES:\n",
    "    path= os.path.join(DATADIR, category)\n",
    "    for img in os.listdir(path):\n",
    "        img_array=cv2.imread(os.path.join(path,img), cv2.IMREAD_GRAYSCALE)\n",
    "        plt.imshow(img_array, cmap=\"gray\")\n",
    "        plt.show()\n",
    "        break\n",
    "    break\n",
    "    "
   ]
  },
  {
   "cell_type": "code",
   "execution_count": 10,
   "metadata": {},
   "outputs": [
    {
     "name": "stdout",
     "output_type": "stream",
     "text": [
      "[[ 79  77  79 ...  73  77  77]\n",
      " [ 83  82  82 ...  74  81  77]\n",
      " [ 86  86  84 ...  74  79  78]\n",
      " ...\n",
      " [ 64  68  70 ...  63  77  60]\n",
      " [ 67  70  74 ...  47  67  77]\n",
      " [ 67  81  78 ... 122  71  67]]\n"
     ]
    }
   ],
   "source": [
    "print(img_array)"
   ]
  },
  {
   "cell_type": "code",
   "execution_count": 11,
   "metadata": {},
   "outputs": [
    {
     "name": "stdout",
     "output_type": "stream",
     "text": [
      "(48, 48)\n"
     ]
    }
   ],
   "source": [
    "print(img_array.shape)"
   ]
  },
  {
   "cell_type": "code",
   "execution_count": 7,
   "metadata": {},
   "outputs": [],
   "source": [
    "#Resizing the image\n",
    "\n",
    "#IMG_SIZE = 50\n",
    "\n",
    "\n",
    "#new_array = cv2.resize(img_array, (IMG_SIZE, IMG_SIZE))\n",
    "#plt.imshow(new_array, cmap = \"gray\")\n",
    "#plt.show()\n",
    "#print(new_array.shape)"
   ]
  },
  {
   "cell_type": "code",
   "execution_count": 13,
   "metadata": {},
   "outputs": [],
   "source": [
    "#Training data\n",
    "training_data = []\n",
    "def create_training_data():\n",
    "    for category in CATEGORIES:\n",
    "        path= os.path.join(DATADIR, category)  #Path for the Happy, Neutral images\n",
    "        class_num = CATEGORIES.index(category)\n",
    "        for img in os.listdir(path):\n",
    "            try:\n",
    "                img_array=cv2.imread(os.path.join(path,img), cv2.IMREAD_GRAYSCALE)\n",
    "                training_data.append([img_array, class_num])\n",
    "            except Exception as e:\n",
    "                pass\n",
    "\n",
    "create_training_data()  "
   ]
  },
  {
   "cell_type": "code",
   "execution_count": 14,
   "metadata": {},
   "outputs": [
    {
     "name": "stdout",
     "output_type": "stream",
     "text": [
      "12220\n"
     ]
    }
   ],
   "source": [
    "print(len(training_data))"
   ]
  },
  {
   "cell_type": "code",
   "execution_count": 15,
   "metadata": {},
   "outputs": [],
   "source": [
    "#shuffle the data\n",
    "\n",
    "import random\n",
    "\n",
    "random.shuffle(training_data)"
   ]
  },
  {
   "cell_type": "code",
   "execution_count": 16,
   "metadata": {},
   "outputs": [
    {
     "name": "stdout",
     "output_type": "stream",
     "text": [
      "0\n",
      "1\n",
      "1\n",
      "0\n",
      "1\n",
      "0\n",
      "0\n",
      "0\n",
      "1\n",
      "0\n"
     ]
    }
   ],
   "source": [
    "#checking the labels are shuffled using sample\n",
    "    \n",
    "for sample in training_data[:10]:\n",
    "    print(sample[1])"
   ]
  },
  {
   "cell_type": "code",
   "execution_count": 17,
   "metadata": {},
   "outputs": [],
   "source": [
    "X = [] #Feature\n",
    "y = [] #Label"
   ]
  },
  {
   "cell_type": "code",
   "execution_count": 18,
   "metadata": {},
   "outputs": [],
   "source": [
    "for features, label in training_data:\n",
    "    X.append(features)\n",
    "    y.append(label)\n",
    "    \n",
    "img_array = 48\n",
    "\n",
    "#For reshapping \n",
    "X= np.array(X).reshape(-1, img_array, img_array, 1)"
   ]
  },
  {
   "cell_type": "code",
   "execution_count": 19,
   "metadata": {},
   "outputs": [],
   "source": [
    "import pickle\n",
    "\n",
    "# Using pickle to save the data, also we can use numpy to save the data\n",
    "pickle_out = open(\"X.pickle\", \"wb\")\n",
    "pickle.dump(X, pickle_out)\n",
    "pickle_out.close()\n",
    "\n",
    "pickle_out = open(\"Y.pickle\", \"wb\")\n",
    "pickle.dump(y, pickle_out)\n",
    "pickle_out.close()"
   ]
  },
  {
   "cell_type": "code",
   "execution_count": 20,
   "metadata": {},
   "outputs": [],
   "source": [
    "pickle_in = open(\"X.pickle\", \"rb\")\n",
    "X= pickle.load(pickle_in)"
   ]
  },
  {
   "cell_type": "code",
   "execution_count": 21,
   "metadata": {},
   "outputs": [
    {
     "data": {
      "text/plain": [
       "array([[[ 13],\n",
       "        [ 48],\n",
       "        [ 60],\n",
       "        ...,\n",
       "        [119],\n",
       "        [ 80],\n",
       "        [ 43]],\n",
       "\n",
       "       [[ 38],\n",
       "        [ 67],\n",
       "        [ 39],\n",
       "        ...,\n",
       "        [109],\n",
       "        [118],\n",
       "        [ 74]],\n",
       "\n",
       "       [[ 84],\n",
       "        [ 80],\n",
       "        [ 67],\n",
       "        ...,\n",
       "        [112],\n",
       "        [132],\n",
       "        [ 89]],\n",
       "\n",
       "       ...,\n",
       "\n",
       "       [[255],\n",
       "        [255],\n",
       "        [255],\n",
       "        ...,\n",
       "        [ 37],\n",
       "        [183],\n",
       "        [199]],\n",
       "\n",
       "       [[255],\n",
       "        [255],\n",
       "        [255],\n",
       "        ...,\n",
       "        [ 81],\n",
       "        [213],\n",
       "        [197]],\n",
       "\n",
       "       [[254],\n",
       "        [255],\n",
       "        [255],\n",
       "        ...,\n",
       "        [151],\n",
       "        [199],\n",
       "        [193]]], dtype=uint8)"
      ]
     },
     "execution_count": 21,
     "metadata": {},
     "output_type": "execute_result"
    }
   ],
   "source": [
    "X[1]"
   ]
  },
  {
   "cell_type": "code",
   "execution_count": 22,
   "metadata": {},
   "outputs": [
    {
     "data": {
      "text/plain": [
       "0"
      ]
     },
     "execution_count": 22,
     "metadata": {},
     "output_type": "execute_result"
    }
   ],
   "source": [
    "y[3]"
   ]
  },
  {
   "cell_type": "code",
   "execution_count": 23,
   "metadata": {},
   "outputs": [
    {
     "name": "stderr",
     "output_type": "stream",
     "text": [
      "C:\\Users\\sandy\\AppData\\Roaming\\Python\\Python36\\site-packages\\tensorflow\\python\\framework\\dtypes.py:516: FutureWarning: Passing (type, 1) or '1type' as a synonym of type is deprecated; in a future version of numpy, it will be understood as (type, (1,)) / '(1,)type'.\n",
      "  _np_qint8 = np.dtype([(\"qint8\", np.int8, 1)])\n",
      "C:\\Users\\sandy\\AppData\\Roaming\\Python\\Python36\\site-packages\\tensorflow\\python\\framework\\dtypes.py:517: FutureWarning: Passing (type, 1) or '1type' as a synonym of type is deprecated; in a future version of numpy, it will be understood as (type, (1,)) / '(1,)type'.\n",
      "  _np_quint8 = np.dtype([(\"quint8\", np.uint8, 1)])\n",
      "C:\\Users\\sandy\\AppData\\Roaming\\Python\\Python36\\site-packages\\tensorflow\\python\\framework\\dtypes.py:518: FutureWarning: Passing (type, 1) or '1type' as a synonym of type is deprecated; in a future version of numpy, it will be understood as (type, (1,)) / '(1,)type'.\n",
      "  _np_qint16 = np.dtype([(\"qint16\", np.int16, 1)])\n",
      "C:\\Users\\sandy\\AppData\\Roaming\\Python\\Python36\\site-packages\\tensorflow\\python\\framework\\dtypes.py:519: FutureWarning: Passing (type, 1) or '1type' as a synonym of type is deprecated; in a future version of numpy, it will be understood as (type, (1,)) / '(1,)type'.\n",
      "  _np_quint16 = np.dtype([(\"quint16\", np.uint16, 1)])\n",
      "C:\\Users\\sandy\\AppData\\Roaming\\Python\\Python36\\site-packages\\tensorflow\\python\\framework\\dtypes.py:520: FutureWarning: Passing (type, 1) or '1type' as a synonym of type is deprecated; in a future version of numpy, it will be understood as (type, (1,)) / '(1,)type'.\n",
      "  _np_qint32 = np.dtype([(\"qint32\", np.int32, 1)])\n",
      "C:\\Users\\sandy\\AppData\\Roaming\\Python\\Python36\\site-packages\\tensorflow\\python\\framework\\dtypes.py:525: FutureWarning: Passing (type, 1) or '1type' as a synonym of type is deprecated; in a future version of numpy, it will be understood as (type, (1,)) / '(1,)type'.\n",
      "  np_resource = np.dtype([(\"resource\", np.ubyte, 1)])\n",
      "C:\\Users\\sandy\\AppData\\Roaming\\Python\\Python36\\site-packages\\tensorboard\\compat\\tensorflow_stub\\dtypes.py:541: FutureWarning: Passing (type, 1) or '1type' as a synonym of type is deprecated; in a future version of numpy, it will be understood as (type, (1,)) / '(1,)type'.\n",
      "  _np_qint8 = np.dtype([(\"qint8\", np.int8, 1)])\n",
      "C:\\Users\\sandy\\AppData\\Roaming\\Python\\Python36\\site-packages\\tensorboard\\compat\\tensorflow_stub\\dtypes.py:542: FutureWarning: Passing (type, 1) or '1type' as a synonym of type is deprecated; in a future version of numpy, it will be understood as (type, (1,)) / '(1,)type'.\n",
      "  _np_quint8 = np.dtype([(\"quint8\", np.uint8, 1)])\n",
      "C:\\Users\\sandy\\AppData\\Roaming\\Python\\Python36\\site-packages\\tensorboard\\compat\\tensorflow_stub\\dtypes.py:543: FutureWarning: Passing (type, 1) or '1type' as a synonym of type is deprecated; in a future version of numpy, it will be understood as (type, (1,)) / '(1,)type'.\n",
      "  _np_qint16 = np.dtype([(\"qint16\", np.int16, 1)])\n",
      "C:\\Users\\sandy\\AppData\\Roaming\\Python\\Python36\\site-packages\\tensorboard\\compat\\tensorflow_stub\\dtypes.py:544: FutureWarning: Passing (type, 1) or '1type' as a synonym of type is deprecated; in a future version of numpy, it will be understood as (type, (1,)) / '(1,)type'.\n",
      "  _np_quint16 = np.dtype([(\"quint16\", np.uint16, 1)])\n",
      "C:\\Users\\sandy\\AppData\\Roaming\\Python\\Python36\\site-packages\\tensorboard\\compat\\tensorflow_stub\\dtypes.py:545: FutureWarning: Passing (type, 1) or '1type' as a synonym of type is deprecated; in a future version of numpy, it will be understood as (type, (1,)) / '(1,)type'.\n",
      "  _np_qint32 = np.dtype([(\"qint32\", np.int32, 1)])\n",
      "C:\\Users\\sandy\\AppData\\Roaming\\Python\\Python36\\site-packages\\tensorboard\\compat\\tensorflow_stub\\dtypes.py:550: FutureWarning: Passing (type, 1) or '1type' as a synonym of type is deprecated; in a future version of numpy, it will be understood as (type, (1,)) / '(1,)type'.\n",
      "  np_resource = np.dtype([(\"resource\", np.ubyte, 1)])\n"
     ]
    }
   ],
   "source": [
    "import tensorflow as tf\n",
    "from tensorflow.keras.datasets import cifar10\n",
    "from tensorflow.keras.preprocessing.image import ImageDataGenerator\n",
    "from tensorflow.keras.models import Sequential\n",
    "from tensorflow.keras.layers import Dense, Dropout, Activation, Flatten, Conv2D, MaxPooling2D\n",
    "from tensorflow.keras.callbacks import TensorBoard\n",
    "import pickle\n",
    "import time\n",
    "\n",
    "gpu_options = tf.GPUOptions(per_process_gpu_memory_fraction=0.333)\n",
    "sess = tf.Session(config=tf.ConfigProto(gpu_options=gpu_options))"
   ]
  },
  {
   "cell_type": "code",
   "execution_count": 24,
   "metadata": {},
   "outputs": [
    {
     "name": "stdout",
     "output_type": "stream",
     "text": [
      "WARNING:tensorflow:From C:\\Users\\sandy\\AppData\\Roaming\\Python\\Python36\\site-packages\\tensorflow\\python\\ops\\init_ops.py:1251: calling VarianceScaling.__init__ (from tensorflow.python.ops.init_ops) with dtype is deprecated and will be removed in a future version.\n",
      "Instructions for updating:\n",
      "Call initializer instance with the dtype argument instead of passing it to the constructor\n",
      "WARNING:tensorflow:From C:\\Users\\sandy\\AppData\\Roaming\\Python\\Python36\\site-packages\\tensorflow\\python\\ops\\nn_impl.py:180: add_dispatch_support.<locals>.wrapper (from tensorflow.python.ops.array_ops) is deprecated and will be removed in a future version.\n",
      "Instructions for updating:\n",
      "Use tf.where in 2.0, which has the same broadcast rule as np.where\n",
      "Train on 10998 samples, validate on 1222 samples\n",
      "Epoch 1/10\n",
      "10998/10998 [==============================] - 67s 6ms/sample - loss: 0.5766 - acc: 0.6952 - val_loss: 0.4555 - val_acc: 0.8069\n",
      "Epoch 2/10\n",
      "10998/10998 [==============================] - 66s 6ms/sample - loss: 0.4609 - acc: 0.7853 - val_loss: 0.4240 - val_acc: 0.8151\n",
      "Epoch 3/10\n",
      "10998/10998 [==============================] - 68s 6ms/sample - loss: 0.4149 - acc: 0.8088 - val_loss: 0.3907 - val_acc: 0.8273\n",
      "Epoch 4/10\n",
      "10998/10998 [==============================] - 74s 7ms/sample - loss: 0.3818 - acc: 0.8269 - val_loss: 0.3909 - val_acc: 0.8257\n",
      "Epoch 5/10\n",
      "10998/10998 [==============================] - 73s 7ms/sample - loss: 0.3569 - acc: 0.8365 - val_loss: 0.3631 - val_acc: 0.8314\n",
      "Epoch 6/10\n",
      "10998/10998 [==============================] - 70s 6ms/sample - loss: 0.3341 - acc: 0.8522 - val_loss: 0.3896 - val_acc: 0.8241\n",
      "Epoch 7/10\n",
      "10998/10998 [==============================] - 65s 6ms/sample - loss: 0.3174 - acc: 0.8593 - val_loss: 0.3638 - val_acc: 0.8396\n",
      "Epoch 8/10\n",
      "10998/10998 [==============================] - 70s 6ms/sample - loss: 0.3005 - acc: 0.8685 - val_loss: 0.4076 - val_acc: 0.8265\n",
      "Epoch 9/10\n",
      "10998/10998 [==============================] - 70s 6ms/sample - loss: 0.2810 - acc: 0.8766 - val_loss: 0.3906 - val_acc: 0.8208\n",
      "Epoch 10/10\n",
      "10998/10998 [==============================] - 74s 7ms/sample - loss: 0.2594 - acc: 0.8933 - val_loss: 0.3839 - val_acc: 0.8265\n"
     ]
    },
    {
     "data": {
      "text/plain": [
       "<tensorflow.python.keras.callbacks.History at 0x27d88371940>"
      ]
     },
     "execution_count": 24,
     "metadata": {},
     "output_type": "execute_result"
    }
   ],
   "source": [
    "Name = \"smilemodel-{}\".format(int(time.time()))\n",
    "logdir= \"C:\\\\Users\\\\sandy\\\\train\\\\{}\".format(Name)\n",
    "tensorboard = TensorBoard(logdir)\n",
    "\n",
    "X = pickle.load( open(\"X.pickle\", \"rb\"))\n",
    "y = pickle.load( open(\"y.pickle\", \"rb\"))\n",
    "\n",
    "X = X/255.0\n",
    "\n",
    "model = Sequential()\n",
    "\n",
    "model.add(Conv2D(64, (3,3), input_shape= X.shape[1:])) #64 Convolution units, 3,3 is window size and shape\n",
    "model.add(Activation(\"relu\"))\n",
    "model.add(MaxPooling2D(pool_size=(2,2)))\n",
    "\n",
    "model.add(Conv2D(64, (3,3), input_shape= X.shape[1:]))\n",
    "model.add(Activation(\"relu\"))\n",
    "model.add(MaxPooling2D(pool_size=(2,2)))\n",
    "    \n",
    "\n",
    "model.add(Flatten()) #THis converts our 3D feature maps to 1D feature\n",
    "\n",
    "model.add(Dense(64))\n",
    "model.add(Activation(\"relu\"))\n",
    "\n",
    "model.add(Dense(1))\n",
    "model.add(Activation(\"sigmoid\"))\n",
    "\n",
    "model.compile(loss=\"binary_crossentropy\", #we can use categorical for more than 2 labels\n",
    "             optimizer=\"adam\",\n",
    "             metrics=[\"accuracy\"])\n",
    "\n",
    "model.fit(X, y, batch_size= 32, epochs=10, validation_split=0.1, callbacks=[tensorboard]) \n",
    "\n"
   ]
  },
  {
   "cell_type": "code",
   "execution_count": 25,
   "metadata": {},
   "outputs": [],
   "source": [
    "model.save('train.model')"
   ]
  },
  {
   "cell_type": "code",
   "execution_count": 76,
   "metadata": {},
   "outputs": [],
   "source": [
    "#Analysing models with Tensorboard\n",
    "\n",
    "#tensorboard --logdir=foo:\"C:\\Users\\sandy\\train\" in Anaconda prompt\n",
    "#connecting using the command to see the visualisation in Tensorboard"
   ]
  },
  {
   "cell_type": "code",
   "execution_count": 75,
   "metadata": {},
   "outputs": [
    {
     "data": {
      "text/plain": [
       "'\\ndense_layers = [0,1,2]\\nlayer_sizes = [32,64,128]\\nconv_layers = [1,2,3]\\n\\n\\nfor dense_layer in dense_layers:\\n    for layer_size in layer_sizes:\\n        for con_layer in conv_layers:\\n            Name = \"{}-conv-{}-nodes-{}-dense-{}\".format(conv_layers, layer_sizes, dense_layers, int(time.time()))\\n            logdir= \"C:\\\\Users\\\\sandy\\\\train\\\\{}\".format(Name)\\n            tensorboard = TensorBoard(logdir)\\n            print(Name)\\n            model = Sequential()\\n\\n            model.add(Conv2D(layer_size, (3,3), input_shape= X.shape[1:])) #64 Convolution units, 3,3 is window size and shape\\n            model.add(Activation(\"relu\"))\\n            model.add(MaxPooling2D(pool_size=(2,2)))\\n                \\n            for l in range(con_layer-1):\\n                model.add(Conv2D(layer_size, (3,3), input_shape= X.shape[1:]))\\n                model.add(Activation(\"relu\"))\\n                model.add(MaxPooling2D(pool_size=(2,2)))\\n    \\n\\n            model.add(Flatten()) #THis converts our 3D feature maps to 1D feature\\n\\n            for l in range(dense_layer):\\n                model.add(Dense(layer_size))\\n                model.add(Activation(\"relu\"))\\n                model.add(Dropout(0.2))\\n            \\n\\n            model.add(Dense(1))\\n            model.add(Activation(\"sigmoid\"))\\n\\n            model.compile(loss=\"binary_crossentropy\", #we can use categorical for more than 2 labels\\n            optimizer=\"adam\",\\n            metrics=[\"accuracy\"])\\n\\n            model.fit(X, y, batch_size= 32, epochs=20, validation_split=0.1, callbacks=[tensorboard]) \\n'"
      ]
     },
     "execution_count": 75,
     "metadata": {},
     "output_type": "execute_result"
    }
   ],
   "source": [
    "#Optimisation with Tensorboard\n",
    "\n",
    "dense_layers = [0,1,2]\n",
    "layer_sizes = [32,64,128]\n",
    "conv_layers = [1,2,3]\n",
    "\n",
    "\n",
    "for dense_layer in dense_layers:\n",
    "    for layer_size in layer_sizes:\n",
    "        for con_layer in conv_layers:\n",
    "            Name = \"{}-conv-{}-nodes-{}-dense-{}\".format(conv_layers, layer_sizes, dense_layers, int(time.time()))\n",
    "            logdir= \"C:\\\\Users\\\\sandy\\\\train\\\\{}\".format(Name)\n",
    "            tensorboard = TensorBoard(logdir)\n",
    "            print(Name)\n",
    "            model = Sequential()\n",
    "\n",
    "            model.add(Conv2D(layer_size, (3,3), input_shape= X.shape[1:])) #64 Convolution units, 3,3 is window size and shape\n",
    "            model.add(Activation(\"relu\"))\n",
    "            model.add(MaxPooling2D(pool_size=(2,2)))\n",
    "                \n",
    "            for l in range(con_layer-1):\n",
    "                model.add(Conv2D(layer_size, (3,3), input_shape= X.shape[1:]))\n",
    "                model.add(Activation(\"relu\"))\n",
    "                model.add(MaxPooling2D(pool_size=(2,2)))\n",
    "    \n",
    "\n",
    "            model.add(Flatten()) #THis converts our 3D feature maps to 1D feature\n",
    "\n",
    "            for l in range(dense_layer):\n",
    "                model.add(Dense(layer_size))\n",
    "                model.add(Activation(\"relu\"))\n",
    "                model.add(Dropout(0.2))\n",
    "            \n",
    "\n",
    "            model.add(Dense(1))\n",
    "            model.add(Activation(\"sigmoid\"))\n",
    "\n",
    "            model.compile(loss=\"binary_crossentropy\", #we can use categorical for more than 2 labels\n",
    "            optimizer=\"adam\",\n",
    "            metrics=[\"accuracy\"])\n",
    "\n",
    "            model.fit(X, y, batch_size= 32, epochs=20, validation_split=0.1, callbacks=[tensorboard]) \n",
    "\n",
    "            "
   ]
  },
  {
   "cell_type": "code",
   "execution_count": 26,
   "metadata": {},
   "outputs": [
    {
     "name": "stdout",
     "output_type": "stream",
     "text": [
      "WARNING:tensorflow:From C:\\Users\\sandy\\AppData\\Roaming\\Python\\Python36\\site-packages\\tensorflow\\python\\ops\\init_ops.py:97: calling GlorotUniform.__init__ (from tensorflow.python.ops.init_ops) with dtype is deprecated and will be removed in a future version.\n",
      "Instructions for updating:\n",
      "Call initializer instance with the dtype argument instead of passing it to the constructor\n",
      "WARNING:tensorflow:From C:\\Users\\sandy\\AppData\\Roaming\\Python\\Python36\\site-packages\\tensorflow\\python\\ops\\init_ops.py:97: calling Zeros.__init__ (from tensorflow.python.ops.init_ops) with dtype is deprecated and will be removed in a future version.\n",
      "Instructions for updating:\n",
      "Call initializer instance with the dtype argument instead of passing it to the constructor\n",
      "[[0.]]\n",
      "Happy\n"
     ]
    }
   ],
   "source": [
    "#prediction\n",
    "CATEGORIES = [\"Happy\", \"Neutral\"]\n",
    "\n",
    "def prepare(filepath):\n",
    "    IMG_SIZE = 48\n",
    "    img_array = cv2.imread(filepath, cv2.IMREAD_GRAYSCALE)\n",
    "    new_array = cv2.resize(img_array, (IMG_SIZE, IMG_SIZE))\n",
    "    return new_array.reshape(-1, IMG_SIZE, IMG_SIZE, 1)\n",
    "\n",
    "model1 = tf.keras.models.load_model(\"train.model\")\n",
    "\n",
    "prediction = model1.predict([prepare(\"SandyAngry.jpg\")])\n",
    "\n",
    "print(prediction)\n",
    "\n",
    "\n",
    "prediction = model.predict([prepare(\"SandyAngry.jpg\")])\n",
    "print(CATEGORIES[int(prediction[0][0])])"
   ]
  },
  {
   "cell_type": "code",
   "execution_count": 27,
   "metadata": {},
   "outputs": [
    {
     "name": "stdout",
     "output_type": "stream",
     "text": [
      "Happy\n"
     ]
    }
   ],
   "source": [
    "prediction = model.predict([prepare(\"Sundarsmile.jpg\")])\n",
    "print(CATEGORIES[int(prediction[0][0])])"
   ]
  },
  {
   "cell_type": "code",
   "execution_count": 28,
   "metadata": {},
   "outputs": [
    {
     "name": "stdout",
     "output_type": "stream",
     "text": [
      "Happy\n"
     ]
    }
   ],
   "source": [
    "prediction = model.predict([prepare(\"Sundarsmile.jpg\")])\n",
    "print(CATEGORIES[int(prediction[0][0])])"
   ]
  },
  {
   "cell_type": "code",
   "execution_count": 29,
   "metadata": {},
   "outputs": [
    {
     "name": "stdout",
     "output_type": "stream",
     "text": [
      "Neutral\n"
     ]
    }
   ],
   "source": [
    "prediction = model.predict([prepare(\"my-image.png\")])\n",
    "print(CATEGORIES[int(prediction[0][0])])\n",
    "\n"
   ]
  },
  {
   "cell_type": "code",
   "execution_count": null,
   "metadata": {},
   "outputs": [],
   "source": []
  }
 ],
 "metadata": {
  "kernelspec": {
   "display_name": "Python 3",
   "language": "python",
   "name": "python3"
  },
  "language_info": {
   "codemirror_mode": {
    "name": "ipython",
    "version": 3
   },
   "file_extension": ".py",
   "mimetype": "text/x-python",
   "name": "python",
   "nbconvert_exporter": "python",
   "pygments_lexer": "ipython3",
   "version": "3.6.5"
  }
 },
 "nbformat": 4,
 "nbformat_minor": 2
}
